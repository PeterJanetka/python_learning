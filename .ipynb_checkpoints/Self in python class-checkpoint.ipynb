{
 "cells": [
  {
   "cell_type": "markdown",
   "metadata": {
    "tags": [
     "python",
     "OOP",
     "class",
     "self",
     "constructor"
    ]
   },
   "source": [
    "# Self in Python class\n",
    "\n",
    "self represents the instance of the class. \n",
    "By using the “self” keyword we can access the attributes and methods of the class in python. \n",
    "It binds the attributes with the given arguments.\n",
    "\n",
    "The reason you need to use self, is because Python does not use the @ syntax to refer to instance attributes. \n",
    "Python decided to do methods in a way that makes the instance to which the method belongs, be passed automatically but not received automatically: \n",
    "the first parameter of methods is the instance the method is called on. "
   ]
  },
  {
   "cell_type": "code",
   "execution_count": 2,
   "metadata": {},
   "outputs": [
    {
     "name": "stdout",
     "output_type": "stream",
     "text": [
      "Model is audi a4\n",
      "color is blue\n",
      "Model is ferrari 488\n",
      "color is green\n"
     ]
    }
   ],
   "source": [
    "class car():\n",
    "      \n",
    "    # init method or constructor\n",
    "    def __init__(self, model, color):\n",
    "        self.model = model\n",
    "        self.color = color\n",
    "          \n",
    "    def show(self):\n",
    "        print(\"Model is\", self.model )\n",
    "        print(\"color is\", self.color )\n",
    "          \n",
    "# both objects have different self which \n",
    "# contain their attributes\n",
    "audi = car(\"audi a4\", \"blue\")\n",
    "ferrari = car(\"ferrari 488\", \"green\")\n",
    "  \n",
    "audi.show()     # same output as car.show(audi)\n",
    "ferrari.show()  # same output as car.show(ferrari)"
   ]
  }
 ],
 "metadata": {
  "kernelspec": {
   "display_name": "Python 3",
   "language": "python",
   "name": "python3"
  },
  "language_info": {
   "codemirror_mode": {
    "name": "ipython",
    "version": 3
   },
   "file_extension": ".py",
   "mimetype": "text/x-python",
   "name": "python",
   "nbconvert_exporter": "python",
   "pygments_lexer": "ipython3",
   "version": "3.8.5"
  }
 },
 "nbformat": 4,
 "nbformat_minor": 4
}
