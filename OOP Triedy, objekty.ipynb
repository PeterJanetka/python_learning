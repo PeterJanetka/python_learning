{
 "cells": [
  {
   "cell_type": "markdown",
   "metadata": {
    "tags": [
     "class",
     "object",
     "OOP",
     "attributes",
     "methods"
    ]
   },
   "source": [
    "Objekt - konkretna reprezentacia triedy.\n",
    "          (objekt = instancia triedy)\n",
    "    \n",
    "Pomocou objektov uchovavame stav.\n",
    "\n",
    "Stav objektu definujeme pomocou atributov ( premennych) ktore su naviazane na konkretny objekt.\n",
    "\n",
    "Spravanie, metody definujeme v triede ale vieme ho pouzit/vykonat az nad samotnym objektom.\n",
    "\n",
    "Stav a spravanie, sa viazu iba k objektu.\n",
    "\n",
    "Spravanie definujeme pomocou metod triedy (funkcii)\n",
    "\n",
    "Pomocou self pristupujeme k instancii objektu \n",
    "(self je reprezentaciou objektu triedy)\n",
    "\n",
    "objekty sa vytvaraju v konstruktore\n",
    "do konstruktoru dalej posielame premenne ktore budu definovat stav objektu"
   ]
  },
  {
   "cell_type": "code",
   "execution_count": null,
   "metadata": {},
   "outputs": [],
   "source": [
    "class Person:\n",
    "    def __init__(self,name_p, surname_p):\n",
    "        self.name = name_p\n",
    "        self.surname = surname_p\n",
    "        \n",
    "    def introduce_yourself(self):\n",
    "        print(f\"Hi I am {self.name}\")\n",
    "        \n",
    "milan = Person(\"Milan\", \"Velky\")        \n",
    "milan.name\n",
    "milan.surname\n",
    "milan.introduce_yourself"
   ]
  },
  {
   "cell_type": "raw",
   "metadata": {},
   "source": [
    "vytvorenie instancie(objektu) triedy:\n",
    "zavolam triedu pomocou mena triedy \n",
    "a predam argumenty, parametre \n",
    "konstruktoru ( __init__ ) \n",
    "cize name_p a surname_p"
   ]
  },
  {
   "cell_type": "markdown",
   "metadata": {},
   "source": [
    "By using the “self” keyword we can access the attributes and methods of the class in python. It binds the attributes with the given arguments."
   ]
  },
  {
   "cell_type": "code",
   "execution_count": null,
   "metadata": {},
   "outputs": [],
   "source": []
  }
 ],
 "metadata": {
  "kernelspec": {
   "display_name": "Python 3",
   "language": "python",
   "name": "python3"
  },
  "language_info": {
   "codemirror_mode": {
    "name": "ipython",
    "version": 3
   },
   "file_extension": ".py",
   "mimetype": "text/x-python",
   "name": "python",
   "nbconvert_exporter": "python",
   "pygments_lexer": "ipython3",
   "version": "3.8.5"
  }
 },
 "nbformat": 4,
 "nbformat_minor": 4
}
